{
 "cells": [
  {
   "cell_type": "code",
   "execution_count": 2,
   "id": "2dcb75c2-605e-48f2-99a8-eed08d849fa2",
   "metadata": {},
   "outputs": [
    {
     "name": "stderr",
     "output_type": "stream",
     "text": [
      "2025-01-05 18:00:26.677672: I tensorflow/core/platform/cpu_feature_guard.cc:210] This TensorFlow binary is optimized to use available CPU instructions in performance-critical operations.\n",
      "To enable the following instructions: AVX2 AVX512F AVX512_VNNI FMA, in other operations, rebuild TensorFlow with the appropriate compiler flags.\n"
     ]
    }
   ],
   "source": [
    "import numpy as np\n",
    "from tensorflow.keras.preprocessing.text import Tokenizer\n",
    "from tensorflow.keras.preprocessing.sequence import pad_sequences\n",
    "from sklearn.model_selection import train_test_split\n",
    "from gensim.models import Word2Vec\n",
    "import nltk\n",
    "from nltk.tokenize import word_tokenize\n",
    "from nltk.corpus import stopwords\n",
    "import re\n",
    "import tensorflow as tf\n",
    "from tensorflow.keras.optimizers.schedules import ExponentialDecay\n",
    "from tensorflow.keras.layers import Embedding, MultiHeadAttention, Dense, Dropout, LayerNormalization\n",
    "from tensorflow.keras.models import Model\n",
    "from tensorflow.keras.layers import Input\n",
    "from nltk.translate.bleu_score import sentence_bleu, corpus_bleu, SmoothingFunction\n",
    "from rouge_score import rouge_scorer\n",
    "import matplotlib.pyplot as plt\n"
   ]
  },
  {
   "cell_type": "markdown",
   "id": "0d064e28-f23a-4a1c-babb-474c8a325330",
   "metadata": {},
   "source": [
    "### Corpus:"
   ]
  },
  {
   "cell_type": "code",
   "execution_count": 3,
   "id": "0793fd84-e4ba-45e8-9a09-df74376d9f7d",
   "metadata": {},
   "outputs": [],
   "source": [
    "with open('/Users/aneebaaslam/Desktop/merged_text.txt', 'r') as file:\n",
    "    corpus = file.readlines()"
   ]
  },
  {
   "cell_type": "markdown",
   "id": "f1e4a910-d4b7-4a55-a57e-a35cd88ebad6",
   "metadata": {},
   "source": [
    "### Tokenization and lowecase:"
   ]
  },
  {
   "cell_type": "code",
   "execution_count": 7,
   "id": "a7272676-fd40-4257-b859-26eb03aa9828",
   "metadata": {},
   "outputs": [],
   "source": [
    "tokenized_corpus = [sentence.split() for sentence in corpus]\n",
    "tokenized_corpus = [[word.lower() for word in sentence] for sentence in tokenized_corpus]"
   ]
  },
  {
   "cell_type": "markdown",
   "id": "9b298153-80f9-4692-9633-bde93ac9887b",
   "metadata": {},
   "source": [
    "### Loading the embedding file:"
   ]
  },
  {
   "cell_type": "code",
   "execution_count": 10,
   "id": "2c503060-82ee-4c38-a57c-75ef2e9f7b13",
   "metadata": {},
   "outputs": [],
   "source": [
    "def load_glove_embeddings(embedding_file):\n",
    "    embeddings_index = {}\n",
    "    with open(embedding_file, 'r', encoding='utf-8') as file:\n",
    "        for line in file:\n",
    "            values = line.split()\n",
    "            word = values[0]\n",
    "            vector = np.asarray(values[1:], dtype='float32')\n",
    "            embeddings_index[word] = vector\n",
    "    return embeddings_index\n",
    "\n",
    "\n",
    "embedding_file = '/Users/aneebaaslam/Desktop/glove.6B.50d.txt'  \n",
    "embeddings_index = load_glove_embeddings(embedding_file)"
   ]
  },
  {
   "cell_type": "markdown",
   "id": "1671cf99-ea9b-4517-88b4-4d385fb1f125",
   "metadata": {},
   "source": [
    "### Initializing Tokenizer:"
   ]
  },
  {
   "cell_type": "code",
   "execution_count": 13,
   "id": "bcbab814-4a3c-44fb-91d2-ca64b063c842",
   "metadata": {},
   "outputs": [],
   "source": [
    "tokenizer = Tokenizer()\n",
    "tokenizer.fit_on_texts(corpus)  # Creating sequences\n",
    "sequences = tokenizer.texts_to_sequences(corpus)"
   ]
  },
  {
   "cell_type": "markdown",
   "id": "1f8a2409-7348-4749-a8e7-b49f089c4c81",
   "metadata": {},
   "source": [
    "### Padding Sequences and Vocab Size:"
   ]
  },
  {
   "cell_type": "code",
   "execution_count": 16,
   "id": "1c6e974a-1ab1-46f7-ab18-8e34317532f8",
   "metadata": {},
   "outputs": [],
   "source": [
    "max_sequence_length = max(len(seq) for seq in sequences)  # Longest sentence\n",
    "padded_sequences = pad_sequences(sequences, maxlen=max_sequence_length, padding='post')\n",
    "\n",
    "\n",
    "vocab_size = len(tokenizer.word_index) + 1  "
   ]
  },
  {
   "cell_type": "markdown",
   "id": "d99daaf1-4d85-4dca-9fa6-f7b323cd6803",
   "metadata": {},
   "source": [
    "### Embedding Matrix:"
   ]
  },
  {
   "cell_type": "code",
   "execution_count": 19,
   "id": "61c8112a-5ce0-4a44-982d-3559c0fbb939",
   "metadata": {},
   "outputs": [],
   "source": [
    "all_embeddings = np.stack(list(embeddings_index.values()))\n",
    "emb_mean = np.mean(all_embeddings)\n",
    "emb_std = np.std(all_embeddings)\n",
    "\n",
    "\n",
    "embedding_dim = 50  \n",
    "embedding_matrix = np.zeros((vocab_size, embedding_dim))\n",
    "\n",
    "\n",
    "for word, idx in tokenizer.word_index.items():\n",
    "    embedding_vector = embeddings_index.get(word)\n",
    "    if embedding_vector is not None:\n",
    "        embedding_matrix[idx] = embedding_vector  # Use the GloVe vector\n",
    "    else:\n",
    "        # Generate a random vector where the mean and std are aligned with GloVe's distribution\n",
    "        embedding_matrix[idx] = np.random.normal(loc=emb_mean, scale=emb_std, size=(embedding_dim,))\n"
   ]
  },
  {
   "cell_type": "markdown",
   "id": "cfdad0e2-14ec-48db-b941-44a07901c41b",
   "metadata": {},
   "source": [
    "### Splitting corpus into training and test data:"
   ]
  },
  {
   "cell_type": "code",
   "execution_count": 22,
   "id": "375fe4e4-d31d-47ec-989c-9210a501d0d6",
   "metadata": {},
   "outputs": [],
   "source": [
    "x = padded_sequences[:, :-1]\n",
    "y = padded_sequences[:, 1:]\n",
    "\n",
    "# Splitting the data\n",
    "x_train, x_val, y_train, y_val = train_test_split(x, y, test_size=0.2, random_state=42)\n"
   ]
  },
  {
   "cell_type": "markdown",
   "id": "ba33254c-86d4-433c-82d9-5bac759e448a",
   "metadata": {},
   "source": [
    "### Building Transformater Architecture:"
   ]
  },
  {
   "cell_type": "code",
   "execution_count": 25,
   "id": "8d031c03-de11-4ed5-9230-1061dc189dae",
   "metadata": {},
   "outputs": [],
   "source": [
    "# Learning rate schedule\n",
    "initial_learning_rate = 0.005\n",
    "lr_schedule = ExponentialDecay(\n",
    "    initial_learning_rate,\n",
    "    decay_steps=20000,\n",
    "    decay_rate=0.85,\n",
    "    staircase=True\n",
    ")\n",
    "\n",
    "# Transformer model parameters\n",
    "d_model = 50\n",
    "num_heads = 8\n",
    "dff = 128\n",
    "dropout_rate = 0.1\n",
    "num_layers = 4\n",
    "vocab_size = 2236 \n",
    "max_sequence_length = 1362 \n",
    "\n",
    "# Input layer for the sequences\n",
    "input_seq = Input(shape=(max_sequence_length,))\n",
    "\n",
    "# Embedding layer\n",
    "embedding_layer = Embedding(\n",
    "    input_dim=vocab_size,\n",
    "    output_dim=d_model,\n",
    "    weights=[embedding_matrix],\n",
    "    trainable=False\n",
    ")(input_seq)\n",
    "\n",
    "# Encoder layers\n",
    "x = embedding_layer\n",
    "for i in range(num_layers):\n",
    "    attn_output = MultiHeadAttention(\n",
    "        num_heads=num_heads,\n",
    "        key_dim=d_model\n",
    "    )(x, x)\n",
    "\n",
    "    attn_output = Dropout(dropout_rate)(attn_output)\n",
    "    attn_output = LayerNormalization()(x + attn_output)\n",
    "\n",
    "    ffn_output = Dense(dff, activation='relu')(attn_output)\n",
    "    ffn_output = Dense(d_model)(ffn_output)\n",
    "\n",
    "    ffn_output = Dropout(dropout_rate)(ffn_output)\n",
    "    x = LayerNormalization()(attn_output + ffn_output)\n",
    "\n",
    "# Output layer\n",
    "output = Dense(vocab_size, activation='softmax')(x)\n",
    "model = Model(inputs=input_seq, outputs=output)"
   ]
  },
  {
   "cell_type": "markdown",
   "id": "f5cddc43-6ad6-4067-adeb-ea83f95ab67f",
   "metadata": {},
   "source": [
    "### Model Summary:"
   ]
  },
  {
   "cell_type": "code",
   "execution_count": 29,
   "id": "fe4d4e94-3ff4-48ae-ad1e-4d8cd2362ecf",
   "metadata": {},
   "outputs": [
    {
     "data": {
      "text/html": [
       "<pre style=\"white-space:pre;overflow-x:auto;line-height:normal;font-family:Menlo,'DejaVu Sans Mono',consolas,'Courier New',monospace\"><span style=\"font-weight: bold\">Model: \"functional\"</span>\n",
       "</pre>\n"
      ],
      "text/plain": [
       "\u001b[1mModel: \"functional\"\u001b[0m\n"
      ]
     },
     "metadata": {},
     "output_type": "display_data"
    },
    {
     "data": {
      "text/html": [
       "<pre style=\"white-space:pre;overflow-x:auto;line-height:normal;font-family:Menlo,'DejaVu Sans Mono',consolas,'Courier New',monospace\">┏━━━━━━━━━━━━━━━━━━━━━┳━━━━━━━━━━━━━━━━━━━┳━━━━━━━━━━━━┳━━━━━━━━━━━━━━━━━━━┓\n",
       "┃<span style=\"font-weight: bold\"> Layer (type)        </span>┃<span style=\"font-weight: bold\"> Output Shape      </span>┃<span style=\"font-weight: bold\">    Param # </span>┃<span style=\"font-weight: bold\"> Connected to      </span>┃\n",
       "┡━━━━━━━━━━━━━━━━━━━━━╇━━━━━━━━━━━━━━━━━━━╇━━━━━━━━━━━━╇━━━━━━━━━━━━━━━━━━━┩\n",
       "│ input_layer         │ (<span style=\"color: #00d7ff; text-decoration-color: #00d7ff\">None</span>, <span style=\"color: #00af00; text-decoration-color: #00af00\">1362</span>)      │          <span style=\"color: #00af00; text-decoration-color: #00af00\">0</span> │ -                 │\n",
       "│ (<span style=\"color: #0087ff; text-decoration-color: #0087ff\">InputLayer</span>)        │                   │            │                   │\n",
       "├─────────────────────┼───────────────────┼────────────┼───────────────────┤\n",
       "│ embedding           │ (<span style=\"color: #00d7ff; text-decoration-color: #00d7ff\">None</span>, <span style=\"color: #00af00; text-decoration-color: #00af00\">1362</span>, <span style=\"color: #00af00; text-decoration-color: #00af00\">50</span>)  │    <span style=\"color: #00af00; text-decoration-color: #00af00\">111,800</span> │ input_layer[<span style=\"color: #00af00; text-decoration-color: #00af00\">0</span>][<span style=\"color: #00af00; text-decoration-color: #00af00\">0</span>] │\n",
       "│ (<span style=\"color: #0087ff; text-decoration-color: #0087ff\">Embedding</span>)         │                   │            │                   │\n",
       "├─────────────────────┼───────────────────┼────────────┼───────────────────┤\n",
       "│ multi_head_attenti… │ (<span style=\"color: #00d7ff; text-decoration-color: #00d7ff\">None</span>, <span style=\"color: #00af00; text-decoration-color: #00af00\">1362</span>, <span style=\"color: #00af00; text-decoration-color: #00af00\">50</span>)  │     <span style=\"color: #00af00; text-decoration-color: #00af00\">81,250</span> │ embedding[<span style=\"color: #00af00; text-decoration-color: #00af00\">0</span>][<span style=\"color: #00af00; text-decoration-color: #00af00\">0</span>],  │\n",
       "│ (<span style=\"color: #0087ff; text-decoration-color: #0087ff\">MultiHeadAttentio…</span> │                   │            │ embedding[<span style=\"color: #00af00; text-decoration-color: #00af00\">0</span>][<span style=\"color: #00af00; text-decoration-color: #00af00\">0</span>]   │\n",
       "├─────────────────────┼───────────────────┼────────────┼───────────────────┤\n",
       "│ dropout_1 (<span style=\"color: #0087ff; text-decoration-color: #0087ff\">Dropout</span>) │ (<span style=\"color: #00d7ff; text-decoration-color: #00d7ff\">None</span>, <span style=\"color: #00af00; text-decoration-color: #00af00\">1362</span>, <span style=\"color: #00af00; text-decoration-color: #00af00\">50</span>)  │          <span style=\"color: #00af00; text-decoration-color: #00af00\">0</span> │ multi_head_atten… │\n",
       "├─────────────────────┼───────────────────┼────────────┼───────────────────┤\n",
       "│ add (<span style=\"color: #0087ff; text-decoration-color: #0087ff\">Add</span>)           │ (<span style=\"color: #00d7ff; text-decoration-color: #00d7ff\">None</span>, <span style=\"color: #00af00; text-decoration-color: #00af00\">1362</span>, <span style=\"color: #00af00; text-decoration-color: #00af00\">50</span>)  │          <span style=\"color: #00af00; text-decoration-color: #00af00\">0</span> │ embedding[<span style=\"color: #00af00; text-decoration-color: #00af00\">0</span>][<span style=\"color: #00af00; text-decoration-color: #00af00\">0</span>],  │\n",
       "│                     │                   │            │ dropout_1[<span style=\"color: #00af00; text-decoration-color: #00af00\">0</span>][<span style=\"color: #00af00; text-decoration-color: #00af00\">0</span>]   │\n",
       "├─────────────────────┼───────────────────┼────────────┼───────────────────┤\n",
       "│ layer_normalization │ (<span style=\"color: #00d7ff; text-decoration-color: #00d7ff\">None</span>, <span style=\"color: #00af00; text-decoration-color: #00af00\">1362</span>, <span style=\"color: #00af00; text-decoration-color: #00af00\">50</span>)  │        <span style=\"color: #00af00; text-decoration-color: #00af00\">100</span> │ add[<span style=\"color: #00af00; text-decoration-color: #00af00\">0</span>][<span style=\"color: #00af00; text-decoration-color: #00af00\">0</span>]         │\n",
       "│ (<span style=\"color: #0087ff; text-decoration-color: #0087ff\">LayerNormalizatio…</span> │                   │            │                   │\n",
       "├─────────────────────┼───────────────────┼────────────┼───────────────────┤\n",
       "│ dense (<span style=\"color: #0087ff; text-decoration-color: #0087ff\">Dense</span>)       │ (<span style=\"color: #00d7ff; text-decoration-color: #00d7ff\">None</span>, <span style=\"color: #00af00; text-decoration-color: #00af00\">1362</span>, <span style=\"color: #00af00; text-decoration-color: #00af00\">128</span>) │      <span style=\"color: #00af00; text-decoration-color: #00af00\">6,528</span> │ layer_normalizat… │\n",
       "├─────────────────────┼───────────────────┼────────────┼───────────────────┤\n",
       "│ dense_1 (<span style=\"color: #0087ff; text-decoration-color: #0087ff\">Dense</span>)     │ (<span style=\"color: #00d7ff; text-decoration-color: #00d7ff\">None</span>, <span style=\"color: #00af00; text-decoration-color: #00af00\">1362</span>, <span style=\"color: #00af00; text-decoration-color: #00af00\">50</span>)  │      <span style=\"color: #00af00; text-decoration-color: #00af00\">6,450</span> │ dense[<span style=\"color: #00af00; text-decoration-color: #00af00\">0</span>][<span style=\"color: #00af00; text-decoration-color: #00af00\">0</span>]       │\n",
       "├─────────────────────┼───────────────────┼────────────┼───────────────────┤\n",
       "│ dropout_2 (<span style=\"color: #0087ff; text-decoration-color: #0087ff\">Dropout</span>) │ (<span style=\"color: #00d7ff; text-decoration-color: #00d7ff\">None</span>, <span style=\"color: #00af00; text-decoration-color: #00af00\">1362</span>, <span style=\"color: #00af00; text-decoration-color: #00af00\">50</span>)  │          <span style=\"color: #00af00; text-decoration-color: #00af00\">0</span> │ dense_1[<span style=\"color: #00af00; text-decoration-color: #00af00\">0</span>][<span style=\"color: #00af00; text-decoration-color: #00af00\">0</span>]     │\n",
       "├─────────────────────┼───────────────────┼────────────┼───────────────────┤\n",
       "│ add_1 (<span style=\"color: #0087ff; text-decoration-color: #0087ff\">Add</span>)         │ (<span style=\"color: #00d7ff; text-decoration-color: #00d7ff\">None</span>, <span style=\"color: #00af00; text-decoration-color: #00af00\">1362</span>, <span style=\"color: #00af00; text-decoration-color: #00af00\">50</span>)  │          <span style=\"color: #00af00; text-decoration-color: #00af00\">0</span> │ layer_normalizat… │\n",
       "│                     │                   │            │ dropout_2[<span style=\"color: #00af00; text-decoration-color: #00af00\">0</span>][<span style=\"color: #00af00; text-decoration-color: #00af00\">0</span>]   │\n",
       "├─────────────────────┼───────────────────┼────────────┼───────────────────┤\n",
       "│ layer_normalizatio… │ (<span style=\"color: #00d7ff; text-decoration-color: #00d7ff\">None</span>, <span style=\"color: #00af00; text-decoration-color: #00af00\">1362</span>, <span style=\"color: #00af00; text-decoration-color: #00af00\">50</span>)  │        <span style=\"color: #00af00; text-decoration-color: #00af00\">100</span> │ add_1[<span style=\"color: #00af00; text-decoration-color: #00af00\">0</span>][<span style=\"color: #00af00; text-decoration-color: #00af00\">0</span>]       │\n",
       "│ (<span style=\"color: #0087ff; text-decoration-color: #0087ff\">LayerNormalizatio…</span> │                   │            │                   │\n",
       "├─────────────────────┼───────────────────┼────────────┼───────────────────┤\n",
       "│ multi_head_attenti… │ (<span style=\"color: #00d7ff; text-decoration-color: #00d7ff\">None</span>, <span style=\"color: #00af00; text-decoration-color: #00af00\">1362</span>, <span style=\"color: #00af00; text-decoration-color: #00af00\">50</span>)  │     <span style=\"color: #00af00; text-decoration-color: #00af00\">81,250</span> │ layer_normalizat… │\n",
       "│ (<span style=\"color: #0087ff; text-decoration-color: #0087ff\">MultiHeadAttentio…</span> │                   │            │ layer_normalizat… │\n",
       "├─────────────────────┼───────────────────┼────────────┼───────────────────┤\n",
       "│ dropout_4 (<span style=\"color: #0087ff; text-decoration-color: #0087ff\">Dropout</span>) │ (<span style=\"color: #00d7ff; text-decoration-color: #00d7ff\">None</span>, <span style=\"color: #00af00; text-decoration-color: #00af00\">1362</span>, <span style=\"color: #00af00; text-decoration-color: #00af00\">50</span>)  │          <span style=\"color: #00af00; text-decoration-color: #00af00\">0</span> │ multi_head_atten… │\n",
       "├─────────────────────┼───────────────────┼────────────┼───────────────────┤\n",
       "│ add_2 (<span style=\"color: #0087ff; text-decoration-color: #0087ff\">Add</span>)         │ (<span style=\"color: #00d7ff; text-decoration-color: #00d7ff\">None</span>, <span style=\"color: #00af00; text-decoration-color: #00af00\">1362</span>, <span style=\"color: #00af00; text-decoration-color: #00af00\">50</span>)  │          <span style=\"color: #00af00; text-decoration-color: #00af00\">0</span> │ layer_normalizat… │\n",
       "│                     │                   │            │ dropout_4[<span style=\"color: #00af00; text-decoration-color: #00af00\">0</span>][<span style=\"color: #00af00; text-decoration-color: #00af00\">0</span>]   │\n",
       "├─────────────────────┼───────────────────┼────────────┼───────────────────┤\n",
       "│ layer_normalizatio… │ (<span style=\"color: #00d7ff; text-decoration-color: #00d7ff\">None</span>, <span style=\"color: #00af00; text-decoration-color: #00af00\">1362</span>, <span style=\"color: #00af00; text-decoration-color: #00af00\">50</span>)  │        <span style=\"color: #00af00; text-decoration-color: #00af00\">100</span> │ add_2[<span style=\"color: #00af00; text-decoration-color: #00af00\">0</span>][<span style=\"color: #00af00; text-decoration-color: #00af00\">0</span>]       │\n",
       "│ (<span style=\"color: #0087ff; text-decoration-color: #0087ff\">LayerNormalizatio…</span> │                   │            │                   │\n",
       "├─────────────────────┼───────────────────┼────────────┼───────────────────┤\n",
       "│ dense_2 (<span style=\"color: #0087ff; text-decoration-color: #0087ff\">Dense</span>)     │ (<span style=\"color: #00d7ff; text-decoration-color: #00d7ff\">None</span>, <span style=\"color: #00af00; text-decoration-color: #00af00\">1362</span>, <span style=\"color: #00af00; text-decoration-color: #00af00\">128</span>) │      <span style=\"color: #00af00; text-decoration-color: #00af00\">6,528</span> │ layer_normalizat… │\n",
       "├─────────────────────┼───────────────────┼────────────┼───────────────────┤\n",
       "│ dense_3 (<span style=\"color: #0087ff; text-decoration-color: #0087ff\">Dense</span>)     │ (<span style=\"color: #00d7ff; text-decoration-color: #00d7ff\">None</span>, <span style=\"color: #00af00; text-decoration-color: #00af00\">1362</span>, <span style=\"color: #00af00; text-decoration-color: #00af00\">50</span>)  │      <span style=\"color: #00af00; text-decoration-color: #00af00\">6,450</span> │ dense_2[<span style=\"color: #00af00; text-decoration-color: #00af00\">0</span>][<span style=\"color: #00af00; text-decoration-color: #00af00\">0</span>]     │\n",
       "├─────────────────────┼───────────────────┼────────────┼───────────────────┤\n",
       "│ dropout_5 (<span style=\"color: #0087ff; text-decoration-color: #0087ff\">Dropout</span>) │ (<span style=\"color: #00d7ff; text-decoration-color: #00d7ff\">None</span>, <span style=\"color: #00af00; text-decoration-color: #00af00\">1362</span>, <span style=\"color: #00af00; text-decoration-color: #00af00\">50</span>)  │          <span style=\"color: #00af00; text-decoration-color: #00af00\">0</span> │ dense_3[<span style=\"color: #00af00; text-decoration-color: #00af00\">0</span>][<span style=\"color: #00af00; text-decoration-color: #00af00\">0</span>]     │\n",
       "├─────────────────────┼───────────────────┼────────────┼───────────────────┤\n",
       "│ add_3 (<span style=\"color: #0087ff; text-decoration-color: #0087ff\">Add</span>)         │ (<span style=\"color: #00d7ff; text-decoration-color: #00d7ff\">None</span>, <span style=\"color: #00af00; text-decoration-color: #00af00\">1362</span>, <span style=\"color: #00af00; text-decoration-color: #00af00\">50</span>)  │          <span style=\"color: #00af00; text-decoration-color: #00af00\">0</span> │ layer_normalizat… │\n",
       "│                     │                   │            │ dropout_5[<span style=\"color: #00af00; text-decoration-color: #00af00\">0</span>][<span style=\"color: #00af00; text-decoration-color: #00af00\">0</span>]   │\n",
       "├─────────────────────┼───────────────────┼────────────┼───────────────────┤\n",
       "│ layer_normalizatio… │ (<span style=\"color: #00d7ff; text-decoration-color: #00d7ff\">None</span>, <span style=\"color: #00af00; text-decoration-color: #00af00\">1362</span>, <span style=\"color: #00af00; text-decoration-color: #00af00\">50</span>)  │        <span style=\"color: #00af00; text-decoration-color: #00af00\">100</span> │ add_3[<span style=\"color: #00af00; text-decoration-color: #00af00\">0</span>][<span style=\"color: #00af00; text-decoration-color: #00af00\">0</span>]       │\n",
       "│ (<span style=\"color: #0087ff; text-decoration-color: #0087ff\">LayerNormalizatio…</span> │                   │            │                   │\n",
       "├─────────────────────┼───────────────────┼────────────┼───────────────────┤\n",
       "│ multi_head_attenti… │ (<span style=\"color: #00d7ff; text-decoration-color: #00d7ff\">None</span>, <span style=\"color: #00af00; text-decoration-color: #00af00\">1362</span>, <span style=\"color: #00af00; text-decoration-color: #00af00\">50</span>)  │     <span style=\"color: #00af00; text-decoration-color: #00af00\">81,250</span> │ layer_normalizat… │\n",
       "│ (<span style=\"color: #0087ff; text-decoration-color: #0087ff\">MultiHeadAttentio…</span> │                   │            │ layer_normalizat… │\n",
       "├─────────────────────┼───────────────────┼────────────┼───────────────────┤\n",
       "│ dropout_7 (<span style=\"color: #0087ff; text-decoration-color: #0087ff\">Dropout</span>) │ (<span style=\"color: #00d7ff; text-decoration-color: #00d7ff\">None</span>, <span style=\"color: #00af00; text-decoration-color: #00af00\">1362</span>, <span style=\"color: #00af00; text-decoration-color: #00af00\">50</span>)  │          <span style=\"color: #00af00; text-decoration-color: #00af00\">0</span> │ multi_head_atten… │\n",
       "├─────────────────────┼───────────────────┼────────────┼───────────────────┤\n",
       "│ add_4 (<span style=\"color: #0087ff; text-decoration-color: #0087ff\">Add</span>)         │ (<span style=\"color: #00d7ff; text-decoration-color: #00d7ff\">None</span>, <span style=\"color: #00af00; text-decoration-color: #00af00\">1362</span>, <span style=\"color: #00af00; text-decoration-color: #00af00\">50</span>)  │          <span style=\"color: #00af00; text-decoration-color: #00af00\">0</span> │ layer_normalizat… │\n",
       "│                     │                   │            │ dropout_7[<span style=\"color: #00af00; text-decoration-color: #00af00\">0</span>][<span style=\"color: #00af00; text-decoration-color: #00af00\">0</span>]   │\n",
       "├─────────────────────┼───────────────────┼────────────┼───────────────────┤\n",
       "│ layer_normalizatio… │ (<span style=\"color: #00d7ff; text-decoration-color: #00d7ff\">None</span>, <span style=\"color: #00af00; text-decoration-color: #00af00\">1362</span>, <span style=\"color: #00af00; text-decoration-color: #00af00\">50</span>)  │        <span style=\"color: #00af00; text-decoration-color: #00af00\">100</span> │ add_4[<span style=\"color: #00af00; text-decoration-color: #00af00\">0</span>][<span style=\"color: #00af00; text-decoration-color: #00af00\">0</span>]       │\n",
       "│ (<span style=\"color: #0087ff; text-decoration-color: #0087ff\">LayerNormalizatio…</span> │                   │            │                   │\n",
       "├─────────────────────┼───────────────────┼────────────┼───────────────────┤\n",
       "│ dense_4 (<span style=\"color: #0087ff; text-decoration-color: #0087ff\">Dense</span>)     │ (<span style=\"color: #00d7ff; text-decoration-color: #00d7ff\">None</span>, <span style=\"color: #00af00; text-decoration-color: #00af00\">1362</span>, <span style=\"color: #00af00; text-decoration-color: #00af00\">128</span>) │      <span style=\"color: #00af00; text-decoration-color: #00af00\">6,528</span> │ layer_normalizat… │\n",
       "├─────────────────────┼───────────────────┼────────────┼───────────────────┤\n",
       "│ dense_5 (<span style=\"color: #0087ff; text-decoration-color: #0087ff\">Dense</span>)     │ (<span style=\"color: #00d7ff; text-decoration-color: #00d7ff\">None</span>, <span style=\"color: #00af00; text-decoration-color: #00af00\">1362</span>, <span style=\"color: #00af00; text-decoration-color: #00af00\">50</span>)  │      <span style=\"color: #00af00; text-decoration-color: #00af00\">6,450</span> │ dense_4[<span style=\"color: #00af00; text-decoration-color: #00af00\">0</span>][<span style=\"color: #00af00; text-decoration-color: #00af00\">0</span>]     │\n",
       "├─────────────────────┼───────────────────┼────────────┼───────────────────┤\n",
       "│ dropout_8 (<span style=\"color: #0087ff; text-decoration-color: #0087ff\">Dropout</span>) │ (<span style=\"color: #00d7ff; text-decoration-color: #00d7ff\">None</span>, <span style=\"color: #00af00; text-decoration-color: #00af00\">1362</span>, <span style=\"color: #00af00; text-decoration-color: #00af00\">50</span>)  │          <span style=\"color: #00af00; text-decoration-color: #00af00\">0</span> │ dense_5[<span style=\"color: #00af00; text-decoration-color: #00af00\">0</span>][<span style=\"color: #00af00; text-decoration-color: #00af00\">0</span>]     │\n",
       "├─────────────────────┼───────────────────┼────────────┼───────────────────┤\n",
       "│ add_5 (<span style=\"color: #0087ff; text-decoration-color: #0087ff\">Add</span>)         │ (<span style=\"color: #00d7ff; text-decoration-color: #00d7ff\">None</span>, <span style=\"color: #00af00; text-decoration-color: #00af00\">1362</span>, <span style=\"color: #00af00; text-decoration-color: #00af00\">50</span>)  │          <span style=\"color: #00af00; text-decoration-color: #00af00\">0</span> │ layer_normalizat… │\n",
       "│                     │                   │            │ dropout_8[<span style=\"color: #00af00; text-decoration-color: #00af00\">0</span>][<span style=\"color: #00af00; text-decoration-color: #00af00\">0</span>]   │\n",
       "├─────────────────────┼───────────────────┼────────────┼───────────────────┤\n",
       "│ layer_normalizatio… │ (<span style=\"color: #00d7ff; text-decoration-color: #00d7ff\">None</span>, <span style=\"color: #00af00; text-decoration-color: #00af00\">1362</span>, <span style=\"color: #00af00; text-decoration-color: #00af00\">50</span>)  │        <span style=\"color: #00af00; text-decoration-color: #00af00\">100</span> │ add_5[<span style=\"color: #00af00; text-decoration-color: #00af00\">0</span>][<span style=\"color: #00af00; text-decoration-color: #00af00\">0</span>]       │\n",
       "│ (<span style=\"color: #0087ff; text-decoration-color: #0087ff\">LayerNormalizatio…</span> │                   │            │                   │\n",
       "├─────────────────────┼───────────────────┼────────────┼───────────────────┤\n",
       "│ multi_head_attenti… │ (<span style=\"color: #00d7ff; text-decoration-color: #00d7ff\">None</span>, <span style=\"color: #00af00; text-decoration-color: #00af00\">1362</span>, <span style=\"color: #00af00; text-decoration-color: #00af00\">50</span>)  │     <span style=\"color: #00af00; text-decoration-color: #00af00\">81,250</span> │ layer_normalizat… │\n",
       "│ (<span style=\"color: #0087ff; text-decoration-color: #0087ff\">MultiHeadAttentio…</span> │                   │            │ layer_normalizat… │\n",
       "├─────────────────────┼───────────────────┼────────────┼───────────────────┤\n",
       "│ dropout_10          │ (<span style=\"color: #00d7ff; text-decoration-color: #00d7ff\">None</span>, <span style=\"color: #00af00; text-decoration-color: #00af00\">1362</span>, <span style=\"color: #00af00; text-decoration-color: #00af00\">50</span>)  │          <span style=\"color: #00af00; text-decoration-color: #00af00\">0</span> │ multi_head_atten… │\n",
       "│ (<span style=\"color: #0087ff; text-decoration-color: #0087ff\">Dropout</span>)           │                   │            │                   │\n",
       "├─────────────────────┼───────────────────┼────────────┼───────────────────┤\n",
       "│ add_6 (<span style=\"color: #0087ff; text-decoration-color: #0087ff\">Add</span>)         │ (<span style=\"color: #00d7ff; text-decoration-color: #00d7ff\">None</span>, <span style=\"color: #00af00; text-decoration-color: #00af00\">1362</span>, <span style=\"color: #00af00; text-decoration-color: #00af00\">50</span>)  │          <span style=\"color: #00af00; text-decoration-color: #00af00\">0</span> │ layer_normalizat… │\n",
       "│                     │                   │            │ dropout_10[<span style=\"color: #00af00; text-decoration-color: #00af00\">0</span>][<span style=\"color: #00af00; text-decoration-color: #00af00\">0</span>]  │\n",
       "├─────────────────────┼───────────────────┼────────────┼───────────────────┤\n",
       "│ layer_normalizatio… │ (<span style=\"color: #00d7ff; text-decoration-color: #00d7ff\">None</span>, <span style=\"color: #00af00; text-decoration-color: #00af00\">1362</span>, <span style=\"color: #00af00; text-decoration-color: #00af00\">50</span>)  │        <span style=\"color: #00af00; text-decoration-color: #00af00\">100</span> │ add_6[<span style=\"color: #00af00; text-decoration-color: #00af00\">0</span>][<span style=\"color: #00af00; text-decoration-color: #00af00\">0</span>]       │\n",
       "│ (<span style=\"color: #0087ff; text-decoration-color: #0087ff\">LayerNormalizatio…</span> │                   │            │                   │\n",
       "├─────────────────────┼───────────────────┼────────────┼───────────────────┤\n",
       "│ dense_6 (<span style=\"color: #0087ff; text-decoration-color: #0087ff\">Dense</span>)     │ (<span style=\"color: #00d7ff; text-decoration-color: #00d7ff\">None</span>, <span style=\"color: #00af00; text-decoration-color: #00af00\">1362</span>, <span style=\"color: #00af00; text-decoration-color: #00af00\">128</span>) │      <span style=\"color: #00af00; text-decoration-color: #00af00\">6,528</span> │ layer_normalizat… │\n",
       "├─────────────────────┼───────────────────┼────────────┼───────────────────┤\n",
       "│ dense_7 (<span style=\"color: #0087ff; text-decoration-color: #0087ff\">Dense</span>)     │ (<span style=\"color: #00d7ff; text-decoration-color: #00d7ff\">None</span>, <span style=\"color: #00af00; text-decoration-color: #00af00\">1362</span>, <span style=\"color: #00af00; text-decoration-color: #00af00\">50</span>)  │      <span style=\"color: #00af00; text-decoration-color: #00af00\">6,450</span> │ dense_6[<span style=\"color: #00af00; text-decoration-color: #00af00\">0</span>][<span style=\"color: #00af00; text-decoration-color: #00af00\">0</span>]     │\n",
       "├─────────────────────┼───────────────────┼────────────┼───────────────────┤\n",
       "│ dropout_11          │ (<span style=\"color: #00d7ff; text-decoration-color: #00d7ff\">None</span>, <span style=\"color: #00af00; text-decoration-color: #00af00\">1362</span>, <span style=\"color: #00af00; text-decoration-color: #00af00\">50</span>)  │          <span style=\"color: #00af00; text-decoration-color: #00af00\">0</span> │ dense_7[<span style=\"color: #00af00; text-decoration-color: #00af00\">0</span>][<span style=\"color: #00af00; text-decoration-color: #00af00\">0</span>]     │\n",
       "│ (<span style=\"color: #0087ff; text-decoration-color: #0087ff\">Dropout</span>)           │                   │            │                   │\n",
       "├─────────────────────┼───────────────────┼────────────┼───────────────────┤\n",
       "│ add_7 (<span style=\"color: #0087ff; text-decoration-color: #0087ff\">Add</span>)         │ (<span style=\"color: #00d7ff; text-decoration-color: #00d7ff\">None</span>, <span style=\"color: #00af00; text-decoration-color: #00af00\">1362</span>, <span style=\"color: #00af00; text-decoration-color: #00af00\">50</span>)  │          <span style=\"color: #00af00; text-decoration-color: #00af00\">0</span> │ layer_normalizat… │\n",
       "│                     │                   │            │ dropout_11[<span style=\"color: #00af00; text-decoration-color: #00af00\">0</span>][<span style=\"color: #00af00; text-decoration-color: #00af00\">0</span>]  │\n",
       "├─────────────────────┼───────────────────┼────────────┼───────────────────┤\n",
       "│ layer_normalizatio… │ (<span style=\"color: #00d7ff; text-decoration-color: #00d7ff\">None</span>, <span style=\"color: #00af00; text-decoration-color: #00af00\">1362</span>, <span style=\"color: #00af00; text-decoration-color: #00af00\">50</span>)  │        <span style=\"color: #00af00; text-decoration-color: #00af00\">100</span> │ add_7[<span style=\"color: #00af00; text-decoration-color: #00af00\">0</span>][<span style=\"color: #00af00; text-decoration-color: #00af00\">0</span>]       │\n",
       "│ (<span style=\"color: #0087ff; text-decoration-color: #0087ff\">LayerNormalizatio…</span> │                   │            │                   │\n",
       "├─────────────────────┼───────────────────┼────────────┼───────────────────┤\n",
       "│ dense_8 (<span style=\"color: #0087ff; text-decoration-color: #0087ff\">Dense</span>)     │ (<span style=\"color: #00d7ff; text-decoration-color: #00d7ff\">None</span>, <span style=\"color: #00af00; text-decoration-color: #00af00\">1362</span>,      │    <span style=\"color: #00af00; text-decoration-color: #00af00\">114,036</span> │ layer_normalizat… │\n",
       "│                     │ <span style=\"color: #00af00; text-decoration-color: #00af00\">2236</span>)             │            │                   │\n",
       "└─────────────────────┴───────────────────┴────────────┴───────────────────┘\n",
       "</pre>\n"
      ],
      "text/plain": [
       "┏━━━━━━━━━━━━━━━━━━━━━┳━━━━━━━━━━━━━━━━━━━┳━━━━━━━━━━━━┳━━━━━━━━━━━━━━━━━━━┓\n",
       "┃\u001b[1m \u001b[0m\u001b[1mLayer (type)       \u001b[0m\u001b[1m \u001b[0m┃\u001b[1m \u001b[0m\u001b[1mOutput Shape     \u001b[0m\u001b[1m \u001b[0m┃\u001b[1m \u001b[0m\u001b[1m   Param #\u001b[0m\u001b[1m \u001b[0m┃\u001b[1m \u001b[0m\u001b[1mConnected to     \u001b[0m\u001b[1m \u001b[0m┃\n",
       "┡━━━━━━━━━━━━━━━━━━━━━╇━━━━━━━━━━━━━━━━━━━╇━━━━━━━━━━━━╇━━━━━━━━━━━━━━━━━━━┩\n",
       "│ input_layer         │ (\u001b[38;5;45mNone\u001b[0m, \u001b[38;5;34m1362\u001b[0m)      │          \u001b[38;5;34m0\u001b[0m │ -                 │\n",
       "│ (\u001b[38;5;33mInputLayer\u001b[0m)        │                   │            │                   │\n",
       "├─────────────────────┼───────────────────┼────────────┼───────────────────┤\n",
       "│ embedding           │ (\u001b[38;5;45mNone\u001b[0m, \u001b[38;5;34m1362\u001b[0m, \u001b[38;5;34m50\u001b[0m)  │    \u001b[38;5;34m111,800\u001b[0m │ input_layer[\u001b[38;5;34m0\u001b[0m][\u001b[38;5;34m0\u001b[0m] │\n",
       "│ (\u001b[38;5;33mEmbedding\u001b[0m)         │                   │            │                   │\n",
       "├─────────────────────┼───────────────────┼────────────┼───────────────────┤\n",
       "│ multi_head_attenti… │ (\u001b[38;5;45mNone\u001b[0m, \u001b[38;5;34m1362\u001b[0m, \u001b[38;5;34m50\u001b[0m)  │     \u001b[38;5;34m81,250\u001b[0m │ embedding[\u001b[38;5;34m0\u001b[0m][\u001b[38;5;34m0\u001b[0m],  │\n",
       "│ (\u001b[38;5;33mMultiHeadAttentio…\u001b[0m │                   │            │ embedding[\u001b[38;5;34m0\u001b[0m][\u001b[38;5;34m0\u001b[0m]   │\n",
       "├─────────────────────┼───────────────────┼────────────┼───────────────────┤\n",
       "│ dropout_1 (\u001b[38;5;33mDropout\u001b[0m) │ (\u001b[38;5;45mNone\u001b[0m, \u001b[38;5;34m1362\u001b[0m, \u001b[38;5;34m50\u001b[0m)  │          \u001b[38;5;34m0\u001b[0m │ multi_head_atten… │\n",
       "├─────────────────────┼───────────────────┼────────────┼───────────────────┤\n",
       "│ add (\u001b[38;5;33mAdd\u001b[0m)           │ (\u001b[38;5;45mNone\u001b[0m, \u001b[38;5;34m1362\u001b[0m, \u001b[38;5;34m50\u001b[0m)  │          \u001b[38;5;34m0\u001b[0m │ embedding[\u001b[38;5;34m0\u001b[0m][\u001b[38;5;34m0\u001b[0m],  │\n",
       "│                     │                   │            │ dropout_1[\u001b[38;5;34m0\u001b[0m][\u001b[38;5;34m0\u001b[0m]   │\n",
       "├─────────────────────┼───────────────────┼────────────┼───────────────────┤\n",
       "│ layer_normalization │ (\u001b[38;5;45mNone\u001b[0m, \u001b[38;5;34m1362\u001b[0m, \u001b[38;5;34m50\u001b[0m)  │        \u001b[38;5;34m100\u001b[0m │ add[\u001b[38;5;34m0\u001b[0m][\u001b[38;5;34m0\u001b[0m]         │\n",
       "│ (\u001b[38;5;33mLayerNormalizatio…\u001b[0m │                   │            │                   │\n",
       "├─────────────────────┼───────────────────┼────────────┼───────────────────┤\n",
       "│ dense (\u001b[38;5;33mDense\u001b[0m)       │ (\u001b[38;5;45mNone\u001b[0m, \u001b[38;5;34m1362\u001b[0m, \u001b[38;5;34m128\u001b[0m) │      \u001b[38;5;34m6,528\u001b[0m │ layer_normalizat… │\n",
       "├─────────────────────┼───────────────────┼────────────┼───────────────────┤\n",
       "│ dense_1 (\u001b[38;5;33mDense\u001b[0m)     │ (\u001b[38;5;45mNone\u001b[0m, \u001b[38;5;34m1362\u001b[0m, \u001b[38;5;34m50\u001b[0m)  │      \u001b[38;5;34m6,450\u001b[0m │ dense[\u001b[38;5;34m0\u001b[0m][\u001b[38;5;34m0\u001b[0m]       │\n",
       "├─────────────────────┼───────────────────┼────────────┼───────────────────┤\n",
       "│ dropout_2 (\u001b[38;5;33mDropout\u001b[0m) │ (\u001b[38;5;45mNone\u001b[0m, \u001b[38;5;34m1362\u001b[0m, \u001b[38;5;34m50\u001b[0m)  │          \u001b[38;5;34m0\u001b[0m │ dense_1[\u001b[38;5;34m0\u001b[0m][\u001b[38;5;34m0\u001b[0m]     │\n",
       "├─────────────────────┼───────────────────┼────────────┼───────────────────┤\n",
       "│ add_1 (\u001b[38;5;33mAdd\u001b[0m)         │ (\u001b[38;5;45mNone\u001b[0m, \u001b[38;5;34m1362\u001b[0m, \u001b[38;5;34m50\u001b[0m)  │          \u001b[38;5;34m0\u001b[0m │ layer_normalizat… │\n",
       "│                     │                   │            │ dropout_2[\u001b[38;5;34m0\u001b[0m][\u001b[38;5;34m0\u001b[0m]   │\n",
       "├─────────────────────┼───────────────────┼────────────┼───────────────────┤\n",
       "│ layer_normalizatio… │ (\u001b[38;5;45mNone\u001b[0m, \u001b[38;5;34m1362\u001b[0m, \u001b[38;5;34m50\u001b[0m)  │        \u001b[38;5;34m100\u001b[0m │ add_1[\u001b[38;5;34m0\u001b[0m][\u001b[38;5;34m0\u001b[0m]       │\n",
       "│ (\u001b[38;5;33mLayerNormalizatio…\u001b[0m │                   │            │                   │\n",
       "├─────────────────────┼───────────────────┼────────────┼───────────────────┤\n",
       "│ multi_head_attenti… │ (\u001b[38;5;45mNone\u001b[0m, \u001b[38;5;34m1362\u001b[0m, \u001b[38;5;34m50\u001b[0m)  │     \u001b[38;5;34m81,250\u001b[0m │ layer_normalizat… │\n",
       "│ (\u001b[38;5;33mMultiHeadAttentio…\u001b[0m │                   │            │ layer_normalizat… │\n",
       "├─────────────────────┼───────────────────┼────────────┼───────────────────┤\n",
       "│ dropout_4 (\u001b[38;5;33mDropout\u001b[0m) │ (\u001b[38;5;45mNone\u001b[0m, \u001b[38;5;34m1362\u001b[0m, \u001b[38;5;34m50\u001b[0m)  │          \u001b[38;5;34m0\u001b[0m │ multi_head_atten… │\n",
       "├─────────────────────┼───────────────────┼────────────┼───────────────────┤\n",
       "│ add_2 (\u001b[38;5;33mAdd\u001b[0m)         │ (\u001b[38;5;45mNone\u001b[0m, \u001b[38;5;34m1362\u001b[0m, \u001b[38;5;34m50\u001b[0m)  │          \u001b[38;5;34m0\u001b[0m │ layer_normalizat… │\n",
       "│                     │                   │            │ dropout_4[\u001b[38;5;34m0\u001b[0m][\u001b[38;5;34m0\u001b[0m]   │\n",
       "├─────────────────────┼───────────────────┼────────────┼───────────────────┤\n",
       "│ layer_normalizatio… │ (\u001b[38;5;45mNone\u001b[0m, \u001b[38;5;34m1362\u001b[0m, \u001b[38;5;34m50\u001b[0m)  │        \u001b[38;5;34m100\u001b[0m │ add_2[\u001b[38;5;34m0\u001b[0m][\u001b[38;5;34m0\u001b[0m]       │\n",
       "│ (\u001b[38;5;33mLayerNormalizatio…\u001b[0m │                   │            │                   │\n",
       "├─────────────────────┼───────────────────┼────────────┼───────────────────┤\n",
       "│ dense_2 (\u001b[38;5;33mDense\u001b[0m)     │ (\u001b[38;5;45mNone\u001b[0m, \u001b[38;5;34m1362\u001b[0m, \u001b[38;5;34m128\u001b[0m) │      \u001b[38;5;34m6,528\u001b[0m │ layer_normalizat… │\n",
       "├─────────────────────┼───────────────────┼────────────┼───────────────────┤\n",
       "│ dense_3 (\u001b[38;5;33mDense\u001b[0m)     │ (\u001b[38;5;45mNone\u001b[0m, \u001b[38;5;34m1362\u001b[0m, \u001b[38;5;34m50\u001b[0m)  │      \u001b[38;5;34m6,450\u001b[0m │ dense_2[\u001b[38;5;34m0\u001b[0m][\u001b[38;5;34m0\u001b[0m]     │\n",
       "├─────────────────────┼───────────────────┼────────────┼───────────────────┤\n",
       "│ dropout_5 (\u001b[38;5;33mDropout\u001b[0m) │ (\u001b[38;5;45mNone\u001b[0m, \u001b[38;5;34m1362\u001b[0m, \u001b[38;5;34m50\u001b[0m)  │          \u001b[38;5;34m0\u001b[0m │ dense_3[\u001b[38;5;34m0\u001b[0m][\u001b[38;5;34m0\u001b[0m]     │\n",
       "├─────────────────────┼───────────────────┼────────────┼───────────────────┤\n",
       "│ add_3 (\u001b[38;5;33mAdd\u001b[0m)         │ (\u001b[38;5;45mNone\u001b[0m, \u001b[38;5;34m1362\u001b[0m, \u001b[38;5;34m50\u001b[0m)  │          \u001b[38;5;34m0\u001b[0m │ layer_normalizat… │\n",
       "│                     │                   │            │ dropout_5[\u001b[38;5;34m0\u001b[0m][\u001b[38;5;34m0\u001b[0m]   │\n",
       "├─────────────────────┼───────────────────┼────────────┼───────────────────┤\n",
       "│ layer_normalizatio… │ (\u001b[38;5;45mNone\u001b[0m, \u001b[38;5;34m1362\u001b[0m, \u001b[38;5;34m50\u001b[0m)  │        \u001b[38;5;34m100\u001b[0m │ add_3[\u001b[38;5;34m0\u001b[0m][\u001b[38;5;34m0\u001b[0m]       │\n",
       "│ (\u001b[38;5;33mLayerNormalizatio…\u001b[0m │                   │            │                   │\n",
       "├─────────────────────┼───────────────────┼────────────┼───────────────────┤\n",
       "│ multi_head_attenti… │ (\u001b[38;5;45mNone\u001b[0m, \u001b[38;5;34m1362\u001b[0m, \u001b[38;5;34m50\u001b[0m)  │     \u001b[38;5;34m81,250\u001b[0m │ layer_normalizat… │\n",
       "│ (\u001b[38;5;33mMultiHeadAttentio…\u001b[0m │                   │            │ layer_normalizat… │\n",
       "├─────────────────────┼───────────────────┼────────────┼───────────────────┤\n",
       "│ dropout_7 (\u001b[38;5;33mDropout\u001b[0m) │ (\u001b[38;5;45mNone\u001b[0m, \u001b[38;5;34m1362\u001b[0m, \u001b[38;5;34m50\u001b[0m)  │          \u001b[38;5;34m0\u001b[0m │ multi_head_atten… │\n",
       "├─────────────────────┼───────────────────┼────────────┼───────────────────┤\n",
       "│ add_4 (\u001b[38;5;33mAdd\u001b[0m)         │ (\u001b[38;5;45mNone\u001b[0m, \u001b[38;5;34m1362\u001b[0m, \u001b[38;5;34m50\u001b[0m)  │          \u001b[38;5;34m0\u001b[0m │ layer_normalizat… │\n",
       "│                     │                   │            │ dropout_7[\u001b[38;5;34m0\u001b[0m][\u001b[38;5;34m0\u001b[0m]   │\n",
       "├─────────────────────┼───────────────────┼────────────┼───────────────────┤\n",
       "│ layer_normalizatio… │ (\u001b[38;5;45mNone\u001b[0m, \u001b[38;5;34m1362\u001b[0m, \u001b[38;5;34m50\u001b[0m)  │        \u001b[38;5;34m100\u001b[0m │ add_4[\u001b[38;5;34m0\u001b[0m][\u001b[38;5;34m0\u001b[0m]       │\n",
       "│ (\u001b[38;5;33mLayerNormalizatio…\u001b[0m │                   │            │                   │\n",
       "├─────────────────────┼───────────────────┼────────────┼───────────────────┤\n",
       "│ dense_4 (\u001b[38;5;33mDense\u001b[0m)     │ (\u001b[38;5;45mNone\u001b[0m, \u001b[38;5;34m1362\u001b[0m, \u001b[38;5;34m128\u001b[0m) │      \u001b[38;5;34m6,528\u001b[0m │ layer_normalizat… │\n",
       "├─────────────────────┼───────────────────┼────────────┼───────────────────┤\n",
       "│ dense_5 (\u001b[38;5;33mDense\u001b[0m)     │ (\u001b[38;5;45mNone\u001b[0m, \u001b[38;5;34m1362\u001b[0m, \u001b[38;5;34m50\u001b[0m)  │      \u001b[38;5;34m6,450\u001b[0m │ dense_4[\u001b[38;5;34m0\u001b[0m][\u001b[38;5;34m0\u001b[0m]     │\n",
       "├─────────────────────┼───────────────────┼────────────┼───────────────────┤\n",
       "│ dropout_8 (\u001b[38;5;33mDropout\u001b[0m) │ (\u001b[38;5;45mNone\u001b[0m, \u001b[38;5;34m1362\u001b[0m, \u001b[38;5;34m50\u001b[0m)  │          \u001b[38;5;34m0\u001b[0m │ dense_5[\u001b[38;5;34m0\u001b[0m][\u001b[38;5;34m0\u001b[0m]     │\n",
       "├─────────────────────┼───────────────────┼────────────┼───────────────────┤\n",
       "│ add_5 (\u001b[38;5;33mAdd\u001b[0m)         │ (\u001b[38;5;45mNone\u001b[0m, \u001b[38;5;34m1362\u001b[0m, \u001b[38;5;34m50\u001b[0m)  │          \u001b[38;5;34m0\u001b[0m │ layer_normalizat… │\n",
       "│                     │                   │            │ dropout_8[\u001b[38;5;34m0\u001b[0m][\u001b[38;5;34m0\u001b[0m]   │\n",
       "├─────────────────────┼───────────────────┼────────────┼───────────────────┤\n",
       "│ layer_normalizatio… │ (\u001b[38;5;45mNone\u001b[0m, \u001b[38;5;34m1362\u001b[0m, \u001b[38;5;34m50\u001b[0m)  │        \u001b[38;5;34m100\u001b[0m │ add_5[\u001b[38;5;34m0\u001b[0m][\u001b[38;5;34m0\u001b[0m]       │\n",
       "│ (\u001b[38;5;33mLayerNormalizatio…\u001b[0m │                   │            │                   │\n",
       "├─────────────────────┼───────────────────┼────────────┼───────────────────┤\n",
       "│ multi_head_attenti… │ (\u001b[38;5;45mNone\u001b[0m, \u001b[38;5;34m1362\u001b[0m, \u001b[38;5;34m50\u001b[0m)  │     \u001b[38;5;34m81,250\u001b[0m │ layer_normalizat… │\n",
       "│ (\u001b[38;5;33mMultiHeadAttentio…\u001b[0m │                   │            │ layer_normalizat… │\n",
       "├─────────────────────┼───────────────────┼────────────┼───────────────────┤\n",
       "│ dropout_10          │ (\u001b[38;5;45mNone\u001b[0m, \u001b[38;5;34m1362\u001b[0m, \u001b[38;5;34m50\u001b[0m)  │          \u001b[38;5;34m0\u001b[0m │ multi_head_atten… │\n",
       "│ (\u001b[38;5;33mDropout\u001b[0m)           │                   │            │                   │\n",
       "├─────────────────────┼───────────────────┼────────────┼───────────────────┤\n",
       "│ add_6 (\u001b[38;5;33mAdd\u001b[0m)         │ (\u001b[38;5;45mNone\u001b[0m, \u001b[38;5;34m1362\u001b[0m, \u001b[38;5;34m50\u001b[0m)  │          \u001b[38;5;34m0\u001b[0m │ layer_normalizat… │\n",
       "│                     │                   │            │ dropout_10[\u001b[38;5;34m0\u001b[0m][\u001b[38;5;34m0\u001b[0m]  │\n",
       "├─────────────────────┼───────────────────┼────────────┼───────────────────┤\n",
       "│ layer_normalizatio… │ (\u001b[38;5;45mNone\u001b[0m, \u001b[38;5;34m1362\u001b[0m, \u001b[38;5;34m50\u001b[0m)  │        \u001b[38;5;34m100\u001b[0m │ add_6[\u001b[38;5;34m0\u001b[0m][\u001b[38;5;34m0\u001b[0m]       │\n",
       "│ (\u001b[38;5;33mLayerNormalizatio…\u001b[0m │                   │            │                   │\n",
       "├─────────────────────┼───────────────────┼────────────┼───────────────────┤\n",
       "│ dense_6 (\u001b[38;5;33mDense\u001b[0m)     │ (\u001b[38;5;45mNone\u001b[0m, \u001b[38;5;34m1362\u001b[0m, \u001b[38;5;34m128\u001b[0m) │      \u001b[38;5;34m6,528\u001b[0m │ layer_normalizat… │\n",
       "├─────────────────────┼───────────────────┼────────────┼───────────────────┤\n",
       "│ dense_7 (\u001b[38;5;33mDense\u001b[0m)     │ (\u001b[38;5;45mNone\u001b[0m, \u001b[38;5;34m1362\u001b[0m, \u001b[38;5;34m50\u001b[0m)  │      \u001b[38;5;34m6,450\u001b[0m │ dense_6[\u001b[38;5;34m0\u001b[0m][\u001b[38;5;34m0\u001b[0m]     │\n",
       "├─────────────────────┼───────────────────┼────────────┼───────────────────┤\n",
       "│ dropout_11          │ (\u001b[38;5;45mNone\u001b[0m, \u001b[38;5;34m1362\u001b[0m, \u001b[38;5;34m50\u001b[0m)  │          \u001b[38;5;34m0\u001b[0m │ dense_7[\u001b[38;5;34m0\u001b[0m][\u001b[38;5;34m0\u001b[0m]     │\n",
       "│ (\u001b[38;5;33mDropout\u001b[0m)           │                   │            │                   │\n",
       "├─────────────────────┼───────────────────┼────────────┼───────────────────┤\n",
       "│ add_7 (\u001b[38;5;33mAdd\u001b[0m)         │ (\u001b[38;5;45mNone\u001b[0m, \u001b[38;5;34m1362\u001b[0m, \u001b[38;5;34m50\u001b[0m)  │          \u001b[38;5;34m0\u001b[0m │ layer_normalizat… │\n",
       "│                     │                   │            │ dropout_11[\u001b[38;5;34m0\u001b[0m][\u001b[38;5;34m0\u001b[0m]  │\n",
       "├─────────────────────┼───────────────────┼────────────┼───────────────────┤\n",
       "│ layer_normalizatio… │ (\u001b[38;5;45mNone\u001b[0m, \u001b[38;5;34m1362\u001b[0m, \u001b[38;5;34m50\u001b[0m)  │        \u001b[38;5;34m100\u001b[0m │ add_7[\u001b[38;5;34m0\u001b[0m][\u001b[38;5;34m0\u001b[0m]       │\n",
       "│ (\u001b[38;5;33mLayerNormalizatio…\u001b[0m │                   │            │                   │\n",
       "├─────────────────────┼───────────────────┼────────────┼───────────────────┤\n",
       "│ dense_8 (\u001b[38;5;33mDense\u001b[0m)     │ (\u001b[38;5;45mNone\u001b[0m, \u001b[38;5;34m1362\u001b[0m,      │    \u001b[38;5;34m114,036\u001b[0m │ layer_normalizat… │\n",
       "│                     │ \u001b[38;5;34m2236\u001b[0m)             │            │                   │\n",
       "└─────────────────────┴───────────────────┴────────────┴───────────────────┘\n"
      ]
     },
     "metadata": {},
     "output_type": "display_data"
    },
    {
     "data": {
      "text/html": [
       "<pre style=\"white-space:pre;overflow-x:auto;line-height:normal;font-family:Menlo,'DejaVu Sans Mono',consolas,'Courier New',monospace\"><span style=\"font-weight: bold\"> Total params: </span><span style=\"color: #00af00; text-decoration-color: #00af00\">603,548</span> (2.30 MB)\n",
       "</pre>\n"
      ],
      "text/plain": [
       "\u001b[1m Total params: \u001b[0m\u001b[38;5;34m603,548\u001b[0m (2.30 MB)\n"
      ]
     },
     "metadata": {},
     "output_type": "display_data"
    },
    {
     "data": {
      "text/html": [
       "<pre style=\"white-space:pre;overflow-x:auto;line-height:normal;font-family:Menlo,'DejaVu Sans Mono',consolas,'Courier New',monospace\"><span style=\"font-weight: bold\"> Trainable params: </span><span style=\"color: #00af00; text-decoration-color: #00af00\">491,748</span> (1.88 MB)\n",
       "</pre>\n"
      ],
      "text/plain": [
       "\u001b[1m Trainable params: \u001b[0m\u001b[38;5;34m491,748\u001b[0m (1.88 MB)\n"
      ]
     },
     "metadata": {},
     "output_type": "display_data"
    },
    {
     "data": {
      "text/html": [
       "<pre style=\"white-space:pre;overflow-x:auto;line-height:normal;font-family:Menlo,'DejaVu Sans Mono',consolas,'Courier New',monospace\"><span style=\"font-weight: bold\"> Non-trainable params: </span><span style=\"color: #00af00; text-decoration-color: #00af00\">111,800</span> (436.72 KB)\n",
       "</pre>\n"
      ],
      "text/plain": [
       "\u001b[1m Non-trainable params: \u001b[0m\u001b[38;5;34m111,800\u001b[0m (436.72 KB)\n"
      ]
     },
     "metadata": {},
     "output_type": "display_data"
    }
   ],
   "source": [
    "model.compile(optimizer=tf.keras.optimizers.Adam(learning_rate=lr_schedule),\n",
    "              loss='sparse_categorical_crossentropy',\n",
    "              metrics=['accuracy'])\n",
    "model.summary()"
   ]
  },
  {
   "cell_type": "markdown",
   "id": "a82a1b48-c3cf-4dd2-b8c1-eba4248c5fdb",
   "metadata": {},
   "source": [
    "### Model Training:"
   ]
  },
  {
   "cell_type": "code",
   "execution_count": 31,
   "id": "f6c19d5d-2097-4b78-9873-75137e7d894e",
   "metadata": {},
   "outputs": [
    {
     "name": "stdout",
     "output_type": "stream",
     "text": [
      "Epoch 1/15\n",
      "\u001b[1m3/3\u001b[0m \u001b[32m━━━━━━━━━━━━━━━━━━━━\u001b[0m\u001b[37m\u001b[0m \u001b[1m133s\u001b[0m 37s/step - accuracy: 0.7283 - loss: 7.3319 - val_accuracy: 0.8781 - val_loss: 6.0498\n",
      "Epoch 2/15\n",
      "\u001b[1m3/3\u001b[0m \u001b[32m━━━━━━━━━━━━━━━━━━━━\u001b[0m\u001b[37m\u001b[0m \u001b[1m95s\u001b[0m 28s/step - accuracy: 0.9342 - loss: 5.8127 - val_accuracy: 0.8781 - val_loss: 4.8972\n",
      "Epoch 3/15\n",
      "\u001b[1m3/3\u001b[0m \u001b[32m━━━━━━━━━━━━━━━━━━━━\u001b[0m\u001b[37m\u001b[0m \u001b[1m103s\u001b[0m 32s/step - accuracy: 0.9441 - loss: 4.5851 - val_accuracy: 0.8781 - val_loss: 3.6222\n",
      "Epoch 4/15\n",
      "\u001b[1m3/3\u001b[0m \u001b[32m━━━━━━━━━━━━━━━━━━━━\u001b[0m\u001b[37m\u001b[0m \u001b[1m97s\u001b[0m 29s/step - accuracy: 0.9382 - loss: 3.2679 - val_accuracy: 0.8781 - val_loss: 2.3517\n",
      "Epoch 5/15\n",
      "\u001b[1m3/3\u001b[0m \u001b[32m━━━━━━━━━━━━━━━━━━━━\u001b[0m\u001b[37m\u001b[0m \u001b[1m95s\u001b[0m 29s/step - accuracy: 0.9287 - loss: 1.9947 - val_accuracy: 0.8781 - val_loss: 1.4483\n",
      "Epoch 6/15\n",
      "\u001b[1m3/3\u001b[0m \u001b[32m━━━━━━━━━━━━━━━━━━━━\u001b[0m\u001b[37m\u001b[0m \u001b[1m110s\u001b[0m 35s/step - accuracy: 0.9358 - loss: 1.0242 - val_accuracy: 0.8781 - val_loss: 1.2023\n",
      "Epoch 7/15\n",
      "\u001b[1m3/3\u001b[0m \u001b[32m━━━━━━━━━━━━━━━━━━━━\u001b[0m\u001b[37m\u001b[0m \u001b[1m102s\u001b[0m 30s/step - accuracy: 0.9370 - loss: 0.6934 - val_accuracy: 0.8781 - val_loss: 1.2611\n",
      "Epoch 8/15\n",
      "\u001b[1m3/3\u001b[0m \u001b[32m━━━━━━━━━━━━━━━━━━━━\u001b[0m\u001b[37m\u001b[0m \u001b[1m112s\u001b[0m 34s/step - accuracy: 0.9376 - loss: 0.6642 - val_accuracy: 0.8781 - val_loss: 1.3491\n",
      "Epoch 9/15\n",
      "\u001b[1m3/3\u001b[0m \u001b[32m━━━━━━━━━━━━━━━━━━━━\u001b[0m\u001b[37m\u001b[0m \u001b[1m110s\u001b[0m 33s/step - accuracy: 0.9299 - loss: 0.7731 - val_accuracy: 0.8781 - val_loss: 1.4015\n",
      "Epoch 10/15\n",
      "\u001b[1m3/3\u001b[0m \u001b[32m━━━━━━━━━━━━━━━━━━━━\u001b[0m\u001b[37m\u001b[0m \u001b[1m113s\u001b[0m 37s/step - accuracy: 0.9370 - loss: 0.7162 - val_accuracy: 0.8781 - val_loss: 1.3964\n",
      "Epoch 11/15\n",
      "\u001b[1m3/3\u001b[0m \u001b[32m━━━━━━━━━━━━━━━━━━━━\u001b[0m\u001b[37m\u001b[0m \u001b[1m115s\u001b[0m 32s/step - accuracy: 0.9374 - loss: 0.6973 - val_accuracy: 0.8781 - val_loss: 1.2798\n",
      "Epoch 12/15\n",
      "\u001b[1m3/3\u001b[0m \u001b[32m━━━━━━━━━━━━━━━━━━━━\u001b[0m\u001b[37m\u001b[0m \u001b[1m95s\u001b[0m 28s/step - accuracy: 0.9331 - loss: 0.6943 - val_accuracy: 0.8781 - val_loss: 1.1680\n",
      "Epoch 13/15\n",
      "\u001b[1m3/3\u001b[0m \u001b[32m━━━━━━━━━━━━━━━━━━━━\u001b[0m\u001b[37m\u001b[0m \u001b[1m110s\u001b[0m 32s/step - accuracy: 0.9385 - loss: 0.6389 - val_accuracy: 0.8781 - val_loss: 1.2012\n",
      "Epoch 14/15\n",
      "\u001b[1m3/3\u001b[0m \u001b[32m━━━━━━━━━━━━━━━━━━━━\u001b[0m\u001b[37m\u001b[0m \u001b[1m108s\u001b[0m 33s/step - accuracy: 0.9352 - loss: 0.6557 - val_accuracy: 0.8781 - val_loss: 1.2372\n",
      "Epoch 15/15\n",
      "\u001b[1m3/3\u001b[0m \u001b[32m━━━━━━━━━━━━━━━━━━━━\u001b[0m\u001b[37m\u001b[0m \u001b[1m100s\u001b[0m 30s/step - accuracy: 0.9370 - loss: 0.6408 - val_accuracy: 0.8781 - val_loss: 1.2247\n"
     ]
    },
    {
     "data": {
      "text/plain": [
       "<keras.src.callbacks.history.History at 0x146c1c8f0>"
      ]
     },
     "execution_count": 31,
     "metadata": {},
     "output_type": "execute_result"
    }
   ],
   "source": [
    "model.fit(x_train, y_train, validation_data=(x_val, y_val), batch_size=33, epochs=15)"
   ]
  },
  {
   "cell_type": "code",
   "execution_count": 39,
   "id": "01424746-ce84-404c-a94c-f9d2572dfa06",
   "metadata": {},
   "outputs": [],
   "source": [
    "# Creating Function to generate predictions for a list of sequences\n",
    "\n",
    "def generate_predictions(model, tokenizer, sequences, max_sequence_length):\n",
    "    predictions = []  # List to store predictions\n",
    "    for seq in sequences:\n",
    "\n",
    "        # Preparing the input sequence, ensuring it's the correct shape for the model\n",
    "        input_seq = seq[:max_sequence_length].reshape(1, -1)  \n",
    "\n",
    "        pred_probs = model.predict(input_seq, verbose=0)  # Predicting probabilities for the next word\n",
    "\n",
    "        # Mapping predicted indices to words using the tokenizer's index-to-word mapping\n",
    "        pred_words = [tokenizer.index_word.get(idx, '') for idx in pred_probs.argmax(axis=-1)[0]]\n",
    "        predictions.append(pred_words)  # Appending the predicted words to the list\n",
    "    return predictions"
   ]
  },
  {
   "cell_type": "code",
   "execution_count": 41,
   "id": "5bbb664b-e2e8-4b5c-8e45-334b938823be",
   "metadata": {},
   "outputs": [],
   "source": [
    "# Creating Function to generate actual words from sequences\n",
    "\n",
    "def generate_actuals(sequences, tokenizer):\n",
    "    actuals = []  # List to store actual sequences in word form\n",
    "    for seq in sequences:\n",
    "        # Converting sequence indices to words\n",
    "        words = [tokenizer.index_word.get(idx, '') for idx in seq]\n",
    "        actuals.append(words)  # Append the actual words to the list\n",
    "    return actuals"
   ]
  },
  {
   "cell_type": "code",
   "execution_count": 43,
   "id": "c68d331f-1d9d-48b8-a9fa-0b1eec0cf34f",
   "metadata": {},
   "outputs": [],
   "source": [
    "# Generating  predicted sequences for evaluation\n",
    "predicted_sequences = generate_predictions(model, tokenizer, x_val, max_sequence_length)\n",
    "\n",
    "\n",
    "# Generating actual sequences from the ground truth\n",
    "actual_sequences = generate_actuals(y_val, tokenizer)\n"
   ]
  },
  {
   "cell_type": "code",
   "execution_count": 45,
   "id": "945814e2-d597-4e8e-8583-500b12785fff",
   "metadata": {},
   "outputs": [
    {
     "name": "stdout",
     "output_type": "stream",
     "text": [
      "BLEU Scores:\n",
      "BLEU-1: 0.8781\n",
      "BLEU-2: 0.8781\n",
      "BLEU-3: 0.8792\n",
      "BLEU-4: 0.8780\n",
      "\n",
      " ROUGE Scores:\n",
      "ROUGE-1 (F1): 0.0000\n",
      "ROUGE-2 (F1): 0.0000\n",
      "ROUGE-L (F1): 0.0000\n"
     ]
    }
   ],
   "source": [
    "# Computing BLEU scores for the predicted and actual sequences\n",
    "smooth_fn = SmoothingFunction().method1  # Smoothing function for BLEU scores\n",
    "\n",
    "# Computing BLEU score for each sentence pair\n",
    "bleu_scores = [sentence_bleu([actual], pred, smoothing_function=smooth_fn)\n",
    "               for actual, pred in zip(actual_sequences, predicted_sequences)]\n",
    "# Compute corpus-level BLEU scores with different n-gram weights\n",
    "bleu_1 = corpus_bleu([[a] for a in actual_sequences], predicted_sequences, weights=(1.0, 0, 0, 0))\n",
    "bleu_2 = corpus_bleu([[a] for a in actual_sequences], predicted_sequences, weights=(0.5, 0.5, 0, 0))\n",
    "bleu_3 = corpus_bleu([[a] for a in actual_sequences], predicted_sequences, weights=(0.33, 0.33, 0.33, 0))\n",
    "bleu_4 = corpus_bleu([[a] for a in actual_sequences], predicted_sequences, weights=(0.25, 0.25, 0.25, 0.25))\n",
    "\n",
    "# Printing BLEU scores\n",
    "print(\"BLEU Scores:\")\n",
    "print(f\"BLEU-1: {bleu_1:.4f}\")\n",
    "print(f\"BLEU-2: {bleu_2:.4f}\")\n",
    "print(f\"BLEU-3: {bleu_3:.4f}\")\n",
    "print(f\"BLEU-4: {bleu_4:.4f}\")\n",
    "\n",
    "\n",
    "\n",
    "\n",
    "\n",
    "\n",
    "\n",
    "# Computing ROUGE scores using a scorer\n",
    "scorer = rouge_scorer.RougeScorer(['rouge1', 'rouge2', 'rougeL'], use_stemmer=True)\n",
    "# Initialize cumulative ROUGE scores with offsets for clarity\n",
    "rouge_1, rouge_2, rouge_l = 0, 0, 0\n",
    "\n",
    "\n",
    "\n",
    "# Iterate over actual and predicted sequences\n",
    "for actual, pred in zip(actual_sequences, predicted_sequences):\n",
    "    # Converting sequences to strings for scoring\n",
    "    actual_str = ' '.join(actual)\n",
    "    pred_str = ' '.join(pred)\n",
    "    # Computing ROUGE scores for the pair\n",
    "    scores = scorer.score(actual_str, pred_str)\n",
    "    rouge_1 += scores['rouge1'].fmeasure  # Accumulate ROUGE-1 F1 scores\n",
    "    rouge_2 += scores['rouge2'].fmeasure  # Accumulate ROUGE-2 F1 scores\n",
    "    rouge_l += scores['rougeL'].fmeasure  # Accumulate ROUGE-L F1 scores\n",
    "\n",
    "\n",
    "\n",
    "# Averaging ROUGE scores over all sequences\n",
    "n = len(actual_sequences)\n",
    "print(\"\\n ROUGE Scores:\")\n",
    "print(f\"ROUGE-1 (F1): {rouge_1 / n:.4f}\")\n",
    "print(f\"ROUGE-2 (F1): {rouge_2 / n:.4f}\")\n",
    "print(f\"ROUGE-L (F1): {rouge_l / n:.4f}\")\n"
   ]
  },
  {
   "cell_type": "markdown",
   "id": "9f242cda-1de8-4214-ad9c-67007b571d81",
   "metadata": {},
   "source": [
    "#  4×  MODEL 3 CHECK POINTS"
   ]
  },
  {
   "cell_type": "markdown",
   "id": "4d15a00f-1606-46e7-88aa-b10537da1f62",
   "metadata": {},
   "source": [
    "#### Checkpoint 1: After Training glove.6B.50d Model"
   ]
  },
  {
   "cell_type": "code",
   "execution_count": 56,
   "id": "cc12b1a3-3718-4790-afd7-f7db0f09ec2d",
   "metadata": {},
   "outputs": [],
   "source": [
    "model.save('GloVe_model_checkpoint.keras')"
   ]
  },
  {
   "cell_type": "markdown",
   "id": "a26d5ef1-66aa-4ce3-ab34-1d6719c0731d",
   "metadata": {},
   "source": [
    "#### Checkpoint 2: After Initializing the Embedding Matrix"
   ]
  },
  {
   "cell_type": "code",
   "execution_count": 59,
   "id": "f6198793-d906-4dc4-840f-f426e29e7639",
   "metadata": {},
   "outputs": [],
   "source": [
    "np.save('embedding_matrix_checkpoint.npy', embedding_matrix)"
   ]
  },
  {
   "cell_type": "markdown",
   "id": "a58a88a6-e91f-4ed4-a91e-75529eccc4b4",
   "metadata": {},
   "source": [
    "#### Checkpoint 3: After Each Training Epoch"
   ]
  },
  {
   "cell_type": "code",
   "execution_count": 64,
   "id": "e27aea34-8d63-4a5c-abf3-66c263f93f26",
   "metadata": {},
   "outputs": [
    {
     "name": "stdout",
     "output_type": "stream",
     "text": [
      "Epoch 1/15\n",
      "\u001b[1m3/3\u001b[0m \u001b[32m━━━━━━━━━━━━━━━━━━━━\u001b[0m\u001b[37m\u001b[0m \u001b[1m102s\u001b[0m 30s/step - accuracy: 0.9447 - loss: 0.5628 - val_accuracy: 0.8781 - val_loss: 1.1953\n",
      "Epoch 2/15\n",
      "\u001b[1m3/3\u001b[0m \u001b[32m━━━━━━━━━━━━━━━━━━━━\u001b[0m\u001b[37m\u001b[0m \u001b[1m93s\u001b[0m 30s/step - accuracy: 0.9306 - loss: 0.6928 - val_accuracy: 0.8781 - val_loss: 1.1784\n",
      "Epoch 3/15\n",
      "\u001b[1m3/3\u001b[0m \u001b[32m━━━━━━━━━━━━━━━━━━━━\u001b[0m\u001b[37m\u001b[0m \u001b[1m96s\u001b[0m 29s/step - accuracy: 0.9372 - loss: 0.6372 - val_accuracy: 0.8781 - val_loss: 1.2032\n",
      "Epoch 4/15\n",
      "\u001b[1m3/3\u001b[0m \u001b[32m━━━━━━━━━━━━━━━━━━━━\u001b[0m\u001b[37m\u001b[0m \u001b[1m98s\u001b[0m 31s/step - accuracy: 0.9383 - loss: 0.6225 - val_accuracy: 0.8781 - val_loss: 1.2311\n",
      "Epoch 5/15\n",
      "\u001b[1m3/3\u001b[0m \u001b[32m━━━━━━━━━━━━━━━━━━━━\u001b[0m\u001b[37m\u001b[0m \u001b[1m90s\u001b[0m 26s/step - accuracy: 0.9345 - loss: 0.6578 - val_accuracy: 0.8781 - val_loss: 1.2326\n",
      "Epoch 6/15\n",
      "\u001b[1m3/3\u001b[0m \u001b[32m━━━━━━━━━━━━━━━━━━━━\u001b[0m\u001b[37m\u001b[0m \u001b[1m94s\u001b[0m 31s/step - accuracy: 0.9324 - loss: 0.6805 - val_accuracy: 0.8781 - val_loss: 1.2196\n",
      "Epoch 7/15\n",
      "\u001b[1m3/3\u001b[0m \u001b[32m━━━━━━━━━━━━━━━━━━━━\u001b[0m\u001b[37m\u001b[0m \u001b[1m94s\u001b[0m 29s/step - accuracy: 0.9300 - loss: 0.6978 - val_accuracy: 0.8781 - val_loss: 1.2059\n",
      "Epoch 8/15\n",
      "\u001b[1m3/3\u001b[0m \u001b[32m━━━━━━━━━━━━━━━━━━━━\u001b[0m\u001b[37m\u001b[0m \u001b[1m112s\u001b[0m 37s/step - accuracy: 0.9292 - loss: 0.7014 - val_accuracy: 0.8781 - val_loss: 1.2085\n",
      "Epoch 9/15\n",
      "\u001b[1m3/3\u001b[0m \u001b[32m━━━━━━━━━━━━━━━━━━━━\u001b[0m\u001b[37m\u001b[0m \u001b[1m117s\u001b[0m 36s/step - accuracy: 0.9330 - loss: 0.6688 - val_accuracy: 0.8781 - val_loss: 1.2186\n",
      "Epoch 10/15\n",
      "\u001b[1m3/3\u001b[0m \u001b[32m━━━━━━━━━━━━━━━━━━━━\u001b[0m\u001b[37m\u001b[0m \u001b[1m101s\u001b[0m 30s/step - accuracy: 0.9384 - loss: 0.6225 - val_accuracy: 0.8781 - val_loss: 1.2246\n",
      "Epoch 11/15\n",
      "\u001b[1m3/3\u001b[0m \u001b[32m━━━━━━━━━━━━━━━━━━━━\u001b[0m\u001b[37m\u001b[0m \u001b[1m91s\u001b[0m 27s/step - accuracy: 0.9421 - loss: 0.5856 - val_accuracy: 0.8781 - val_loss: 1.2206\n",
      "Epoch 12/15\n",
      "\u001b[1m3/3\u001b[0m \u001b[32m━━━━━━━━━━━━━━━━━━━━\u001b[0m\u001b[37m\u001b[0m \u001b[1m92s\u001b[0m 29s/step - accuracy: 0.9387 - loss: 0.6155 - val_accuracy: 0.8781 - val_loss: 1.2089\n",
      "Epoch 13/15\n",
      "\u001b[1m3/3\u001b[0m \u001b[32m━━━━━━━━━━━━━━━━━━━━\u001b[0m\u001b[37m\u001b[0m \u001b[1m92s\u001b[0m 28s/step - accuracy: 0.9394 - loss: 0.6107 - val_accuracy: 0.8781 - val_loss: 1.2078\n",
      "Epoch 14/15\n",
      "\u001b[1m3/3\u001b[0m \u001b[32m━━━━━━━━━━━━━━━━━━━━\u001b[0m\u001b[37m\u001b[0m \u001b[1m94s\u001b[0m 29s/step - accuracy: 0.9362 - loss: 0.6402 - val_accuracy: 0.8781 - val_loss: 1.2089\n",
      "Epoch 15/15\n",
      "\u001b[1m3/3\u001b[0m \u001b[32m━━━━━━━━━━━━━━━━━━━━\u001b[0m\u001b[37m\u001b[0m \u001b[1m95s\u001b[0m 27s/step - accuracy: 0.9348 - loss: 0.6491 - val_accuracy: 0.8781 - val_loss: 1.2171\n"
     ]
    },
    {
     "data": {
      "text/plain": [
       "<keras.src.callbacks.history.History at 0x14c49a600>"
      ]
     },
     "execution_count": 64,
     "metadata": {},
     "output_type": "execute_result"
    }
   ],
   "source": [
    "checkpoint_callback = tf.keras.callbacks.ModelCheckpoint(\n",
    "    filepath='model_checkpoint_epoch_{epoch:02d}.weights.h5',\n",
    "    save_weights_only=True,\n",
    "    save_best_only=False\n",
    ")\n",
    "model.fit(x_train, y_train, validation_data=(x_val, y_val), batch_size=32, epochs=15, callbacks=[checkpoint_callback])"
   ]
  },
  {
   "cell_type": "code",
   "execution_count": 71,
   "id": "1b92ef78-94e6-41da-b0d5-fe94a89b2fde",
   "metadata": {},
   "outputs": [
    {
     "data": {
      "text/html": [
       "<a href='model_checkpoint_epoch_15.weights.h5' target='_blank'>model_checkpoint_epoch_15.weights.h5</a><br>"
      ],
      "text/plain": [
       "/Users/aneebaaslam/Desktop/model_checkpoint_epoch_15.weights.h5"
      ]
     },
     "metadata": {},
     "output_type": "display_data"
    }
   ],
   "source": [
    "import os\n",
    "from IPython.display import FileLink\n",
    "\n",
    "epoch = 15\n",
    "filename = f'model_checkpoint_epoch_{epoch:02d}.weights.h5'\n",
    "\n",
    "if os.path.exists(filename):\n",
    "    # Create a download link\n",
    "    display(FileLink(filename))\n",
    "else:\n",
    "    print(f\"Error: File '{filename}' not found.\")\n"
   ]
  },
  {
   "cell_type": "markdown",
   "id": "b75850de-36f2-468f-8e5c-94ee136354b5",
   "metadata": {},
   "source": [
    "#### Checkpoint 4: Best Performance Model "
   ]
  },
  {
   "cell_type": "code",
   "execution_count": 73,
   "id": "9b13ef2a-0454-4f3f-9cc6-3e20743cb382",
   "metadata": {},
   "outputs": [
    {
     "name": "stdout",
     "output_type": "stream",
     "text": [
      "Epoch 1/10\n",
      "\u001b[1m3/3\u001b[0m \u001b[32m━━━━━━━━━━━━━━━━━━━━\u001b[0m\u001b[37m\u001b[0m \u001b[1m0s\u001b[0m 23s/step - accuracy: 0.9445 - loss: 0.5667 \n",
      "Epoch 1: val_loss improved from inf to 1.22775, saving model to best_model.weights.h5\n",
      "\u001b[1m3/3\u001b[0m \u001b[32m━━━━━━━━━━━━━━━━━━━━\u001b[0m\u001b[37m\u001b[0m \u001b[1m92s\u001b[0m 28s/step - accuracy: 0.9426 - loss: 0.5836 - val_accuracy: 0.8781 - val_loss: 1.2278\n",
      "Epoch 2/10\n",
      "\u001b[1m3/3\u001b[0m \u001b[32m━━━━━━━━━━━━━━━━━━━━\u001b[0m\u001b[37m\u001b[0m \u001b[1m0s\u001b[0m 22s/step - accuracy: 0.9343 - loss: 0.6558 \n",
      "Epoch 2: val_loss improved from 1.22775 to 1.22103, saving model to best_model.weights.h5\n",
      "\u001b[1m3/3\u001b[0m \u001b[32m━━━━━━━━━━━━━━━━━━━━\u001b[0m\u001b[37m\u001b[0m \u001b[1m85s\u001b[0m 27s/step - accuracy: 0.9349 - loss: 0.6504 - val_accuracy: 0.8781 - val_loss: 1.2210\n",
      "Epoch 3/10\n",
      "\u001b[1m3/3\u001b[0m \u001b[32m━━━━━━━━━━━━━━━━━━━━\u001b[0m\u001b[37m\u001b[0m \u001b[1m0s\u001b[0m 22s/step - accuracy: 0.9331 - loss: 0.6671 \n",
      "Epoch 3: val_loss improved from 1.22103 to 1.21656, saving model to best_model.weights.h5\n",
      "\u001b[1m3/3\u001b[0m \u001b[32m━━━━━━━━━━━━━━━━━━━━\u001b[0m\u001b[37m\u001b[0m \u001b[1m86s\u001b[0m 27s/step - accuracy: 0.9340 - loss: 0.6587 - val_accuracy: 0.8781 - val_loss: 1.2166\n",
      "Epoch 4/10\n",
      "\u001b[1m3/3\u001b[0m \u001b[32m━━━━━━━━━━━━━━━━━━━━\u001b[0m\u001b[37m\u001b[0m \u001b[1m0s\u001b[0m 25s/step - accuracy: 0.9411 - loss: 0.5920 \n",
      "Epoch 4: val_loss did not improve from 1.21656\n",
      "\u001b[1m3/3\u001b[0m \u001b[32m━━━━━━━━━━━━━━━━━━━━\u001b[0m\u001b[37m\u001b[0m \u001b[1m95s\u001b[0m 29s/step - accuracy: 0.9400 - loss: 0.6024 - val_accuracy: 0.8781 - val_loss: 1.2219\n",
      "Epoch 5/10\n",
      "\u001b[1m3/3\u001b[0m \u001b[32m━━━━━━━━━━━━━━━━━━━━\u001b[0m\u001b[37m\u001b[0m \u001b[1m0s\u001b[0m 25s/step - accuracy: 0.9330 - loss: 0.6668 \n",
      "Epoch 5: val_loss did not improve from 1.21656\n",
      "\u001b[1m3/3\u001b[0m \u001b[32m━━━━━━━━━━━━━━━━━━━━\u001b[0m\u001b[37m\u001b[0m \u001b[1m97s\u001b[0m 30s/step - accuracy: 0.9339 - loss: 0.6584 - val_accuracy: 0.8781 - val_loss: 1.2220\n",
      "Epoch 6/10\n",
      "\u001b[1m3/3\u001b[0m \u001b[32m━━━━━━━━━━━━━━━━━━━━\u001b[0m\u001b[37m\u001b[0m \u001b[1m0s\u001b[0m 26s/step - accuracy: 0.9301 - loss: 0.6983 \n",
      "Epoch 6: val_loss did not improve from 1.21656\n",
      "\u001b[1m3/3\u001b[0m \u001b[32m━━━━━━━━━━━━━━━━━━━━\u001b[0m\u001b[37m\u001b[0m \u001b[1m99s\u001b[0m 31s/step - accuracy: 0.9318 - loss: 0.6820 - val_accuracy: 0.8781 - val_loss: 1.2209\n",
      "Epoch 7/10\n",
      "\u001b[1m3/3\u001b[0m \u001b[32m━━━━━━━━━━━━━━━━━━━━\u001b[0m\u001b[37m\u001b[0m \u001b[1m0s\u001b[0m 26s/step - accuracy: 0.9300 - loss: 0.6936 \n",
      "Epoch 7: val_loss did not improve from 1.21656\n",
      "\u001b[1m3/3\u001b[0m \u001b[32m━━━━━━━━━━━━━━━━━━━━\u001b[0m\u001b[37m\u001b[0m \u001b[1m98s\u001b[0m 30s/step - accuracy: 0.9317 - loss: 0.6786 - val_accuracy: 0.8781 - val_loss: 1.2202\n",
      "Epoch 8/10\n",
      "\u001b[1m3/3\u001b[0m \u001b[32m━━━━━━━━━━━━━━━━━━━━\u001b[0m\u001b[37m\u001b[0m \u001b[1m0s\u001b[0m 26s/step - accuracy: 0.9430 - loss: 0.5724 \n",
      "Epoch 8: val_loss did not improve from 1.21656\n",
      "\u001b[1m3/3\u001b[0m \u001b[32m━━━━━━━━━━━━━━━━━━━━\u001b[0m\u001b[37m\u001b[0m \u001b[1m95s\u001b[0m 31s/step - accuracy: 0.9414 - loss: 0.5876 - val_accuracy: 0.8781 - val_loss: 1.2238\n",
      "Epoch 9/10\n",
      "\u001b[1m3/3\u001b[0m \u001b[32m━━━━━━━━━━━━━━━━━━━━\u001b[0m\u001b[37m\u001b[0m \u001b[1m0s\u001b[0m 27s/step - accuracy: 0.9348 - loss: 0.6499 \n",
      "Epoch 9: val_loss improved from 1.21656 to 1.21487, saving model to best_model.weights.h5\n",
      "\u001b[1m3/3\u001b[0m \u001b[32m━━━━━━━━━━━━━━━━━━━━\u001b[0m\u001b[37m\u001b[0m \u001b[1m104s\u001b[0m 32s/step - accuracy: 0.9353 - loss: 0.6456 - val_accuracy: 0.8781 - val_loss: 1.2149\n",
      "Epoch 10/10\n",
      "\u001b[1m3/3\u001b[0m \u001b[32m━━━━━━━━━━━━━━━━━━━━\u001b[0m\u001b[37m\u001b[0m \u001b[1m0s\u001b[0m 26s/step - accuracy: 0.9383 - loss: 0.6195 \n",
      "Epoch 10: val_loss improved from 1.21487 to 1.21393, saving model to best_model.weights.h5\n",
      "\u001b[1m3/3\u001b[0m \u001b[32m━━━━━━━━━━━━━━━━━━━━\u001b[0m\u001b[37m\u001b[0m \u001b[1m103s\u001b[0m 31s/step - accuracy: 0.9379 - loss: 0.6228 - val_accuracy: 0.8781 - val_loss: 1.2139\n"
     ]
    }
   ],
   "source": [
    "from tensorflow.keras.callbacks import ModelCheckpoint\n",
    "\n",
    "checkpoint = ModelCheckpoint(\n",
    "    filepath='best_model.weights.h5',\n",
    "    monitor='val_loss',\n",
    "    save_best_only=True,\n",
    "    mode='min',\n",
    "    verbose=1,\n",
    "    save_weights_only=True\n",
    ")\n",
    "\n",
    "# Fit the model with the checkpoint callback, using x_train and y_train\n",
    "history = model.fit(\n",
    "    x_train, y_train,\n",
    "    validation_data=(x_val, y_val),\n",
    "    epochs=10,\n",
    "    callbacks=[checkpoint]\n",
    ")"
   ]
  },
  {
   "cell_type": "code",
   "execution_count": 77,
   "id": "7160392f-8d59-43e1-9eae-4b424cf23141",
   "metadata": {},
   "outputs": [
    {
     "data": {
      "text/html": [
       "<a href='best_model.weights.h5' target='_blank'>best_model.weights.h5</a><br>"
      ],
      "text/plain": [
       "/Users/aneebaaslam/Desktop/best_model.weights.h5"
      ]
     },
     "metadata": {},
     "output_type": "display_data"
    }
   ],
   "source": [
    "display(FileLink('best_model.weights.h5'))"
   ]
  },
  {
   "cell_type": "markdown",
   "id": "57c77ebc-5d9d-4705-ae5a-dad2d2402a3e",
   "metadata": {},
   "source": [
    "## **Visualizing Training and Validation losses**"
   ]
  },
  {
   "cell_type": "code",
   "execution_count": 81,
   "id": "af4ba77b-4876-4294-801b-68108b5c187b",
   "metadata": {},
   "outputs": [
    {
     "data": {
      "image/png": "[encoded data removed]",
      "text/plain": [
       "<Figure size 1000x600 with 1 Axes>"
      ]
     },
     "metadata": {},
     "output_type": "display_data"
    },
    {
     "data": {
      "text/html": [
       "<a href='training_validation_loss.png' target='_blank'>training_validation_loss.png</a><br>"
      ],
      "text/plain": [
       "/Users/aneebaaslam/Desktop/training_validation_loss.png"
      ]
     },
     "metadata": {},
     "output_type": "display_data"
    },
    {
     "name": "stdout",
     "output_type": "stream",
     "text": [
      "Plot saved and ready for download as 'training_validation_loss.png'\n"
     ]
    }
   ],
   "source": [
    "\n",
    "def plot_and_download_training_history(history, filename='training_history.png'):\n",
    "    # Plotting the training and validation loss\n",
    "    plt.figure(figsize=(10, 6))\n",
    "    plt.plot(history.history['loss'], label='Training Loss')\n",
    "    plt.plot(history.history['val_loss'], label='Validation Loss')\n",
    "    plt.title('Training and Validation Loss')\n",
    "    plt.xlabel('Epochs')\n",
    "    plt.ylabel('Loss')\n",
    "    plt.legend()\n",
    "    plt.grid()\n",
    "\n",
    "    # Saving the plot as an image\n",
    "    plt.savefig(filename, dpi=300, bbox_inches='tight')\n",
    "    plt.show()\n",
    "\n",
    "    display(FileLink(filename))\n",
    "    print(f\"Plot saved and ready for download as '{filename}'\")\n",
    "\n",
    "# Calling the function\n",
    "plot_and_download_training_history(history, filename='training_validation_loss.png')"
   ]
  },
  {
   "cell_type": "markdown",
   "id": "4a0917f8-504f-4c5b-9f26-7b15089e4435",
   "metadata": {},
   "source": []
  },
  {
   "cell_type": "code",
   "execution_count": null,
   "id": "44d96173-77bb-472d-95c2-65effb07d9d8",
   "metadata": {},
   "outputs": [],
   "source": []
  }
 ],
 "metadata": {
  "kernelspec": {
   "display_name": "Python 3 (ipykernel)",
   "language": "python",
   "name": "python3"
  },
  "language_info": {
   "codemirror_mode": {
    "name": "ipython",
    "version": 3
   },
   "file_extension": ".py",
   "mimetype": "text/x-python",
   "name": "python",
   "nbconvert_exporter": "python",
   "pygments_lexer": "ipython3",
   "version": "3.12.7"
  }
 },
 "nbformat": 4,
 "nbformat_minor": 5
}
